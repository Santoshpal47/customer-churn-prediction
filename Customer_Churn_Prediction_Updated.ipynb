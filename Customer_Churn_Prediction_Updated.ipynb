{
 "cells": [
  {
   "cell_type": "markdown",
   "id": "da388a93",
   "metadata": {},
   "source": [
    "# Customer Churn Prediction\n",
    "**Goal:** Predict which customers are likely to churn using logistic regression.\n",
    "\n",
    "**Tools:** Python, pandas, matplotlib, seaborn, scikit-learn\n",
    "**Dataset:** Telco Customer Churn (Kaggle)"
   ]
  },
  {
   "cell_type": "code",
   "execution_count": null,
   "id": "fbb47d45",
   "metadata": {},
   "outputs": [],
   "source": [
    "import pandas as pd\n",
    "import numpy as np\n",
    "import matplotlib.pyplot as plt\n",
    "import seaborn as sns\n",
    "\n",
    "from sklearn.model_selection import train_test_split\n",
    "from sklearn.preprocessing import LabelEncoder\n",
    "from sklearn.linear_model import LogisticRegression\n",
    "from sklearn.metrics import classification_report, confusion_matrix, accuracy_score"
   ]
  },
  {
   "cell_type": "code",
   "execution_count": null,
   "id": "62151dca",
   "metadata": {},
   "outputs": [],
   "source": [
    "# Load data\n",
    "df = pd.read_csv(\"Customer_Churn_prediction.csv\")\n",
    "df.head()"
   ]
  },
  {
   "cell_type": "code",
   "execution_count": null,
   "id": "c2074b39",
   "metadata": {},
   "outputs": [],
   "source": [
    "# Data info and summary\n",
    "df.info()\n",
    "df.describe()"
   ]
  },
  {
   "cell_type": "code",
   "execution_count": null,
   "id": "55e917e1",
   "metadata": {},
   "outputs": [],
   "source": [
    "# EDA\n",
    "sns.countplot(data=df, x='Churn')\n",
    "plt.title(\"Churn Distribution\")\n",
    "plt.show()\n",
    "\n",
    "sns.countplot(data=df, x='Contract', hue='Churn')\n",
    "plt.title(\"Contract Type vs Churn\")\n",
    "plt.show()\n",
    "\n",
    "sns.boxplot(data=df, x='Churn', y='MonthlyCharges')\n",
    "plt.title(\"Monthly Charges by Churn\")\n",
    "plt.show()"
   ]
  },
  {
   "cell_type": "code",
   "execution_count": null,
   "id": "675bc8c8",
   "metadata": {},
   "outputs": [],
   "source": [
    "# Preprocessing\n",
    "df.drop('customerID', axis=1, inplace=True)\n",
    "df['TotalCharges'] = pd.to_numeric(df['TotalCharges'], errors='coerce')\n",
    "df['TotalCharges'] = df['TotalCharges'].fillna(df['TotalCharges'].median())\n",
    "df['Churn'] = df['Churn'].map({'Yes': 1, 'No': 0})\n",
    "df_encoded = pd.get_dummies(df, drop_first=True)"
   ]
  },
  {
   "cell_type": "code",
   "execution_count": null,
   "id": "aa5857c1",
   "metadata": {},
   "outputs": [],
   "source": [
    "# Logistic Regression\n",
    "X = df_encoded.drop('Churn', axis=1)\n",
    "y = df_encoded['Churn']\n",
    "\n",
    "X_train, X_test, y_train, y_test = train_test_split(X, y, test_size=0.2, random_state=42)\n",
    "model = LogisticRegression(max_iter=3000)\n",
    "model.fit(X_train, y_train)\n",
    "y_pred = model.predict(X_test)"
   ]
  },
  {
   "cell_type": "code",
   "execution_count": null,
   "id": "88ab0ed3",
   "metadata": {},
   "outputs": [],
   "source": [
    "# Evaluation\n",
    "print(\"Accuracy:\", accuracy_score(y_test, y_pred))\n",
    "print(\"Confusion Matrix:\\n\", confusion_matrix(y_test, y_pred))\n",
    "print(\"Classification Report:\\n\", classification_report(y_test, y_pred))"
   ]
  },
  {
   "cell_type": "markdown",
   "id": "ff67fde5",
   "metadata": {},
   "source": [
    "## Business Insights\n",
    "- Customers with month-to-month contracts and short tenure are most likely to churn.\n",
    "- Model achieved ~80% accuracy with logistic regression.\n",
    "- Business can target high-risk segments for retention strategies."
   ]
  },
  {
   "cell_type": "code",
   "execution_count": null,
   "id": "9237e348",
   "metadata": {},
   "outputs": [],
   "source": [
    "# Optional: Export predictions\n",
    "output = pd.DataFrame({'Actual': y_test, 'Predicted': y_pred})\n",
    "output.to_csv(\"churn_predictions.csv\", index=False)"
   ]
  },
  {
   "cell_type": "code",
   "execution_count": null,
   "id": "d8ed1090",
   "metadata": {},
   "outputs": [],
   "source": [
    "# Churn by Contract Type\n",
    "import seaborn as sns\n",
    "import matplotlib.pyplot as plt\n",
    "sns.countplot(data=df, x='Contract', hue='Churn')\n",
    "plt.title('Churn by Contract Type')\n",
    "plt.xlabel('Contract Type')\n",
    "plt.ylabel('Customer Count')\n",
    "plt.xticks(rotation=20)\n",
    "plt.show()"
   ]
  },
  {
   "cell_type": "code",
   "execution_count": null,
   "id": "9613d4d0",
   "metadata": {},
   "outputs": [],
   "source": [
    "# Tenure distribution by churn\n",
    "sns.histplot(data=df, x='tenure', hue='Churn', bins=30, kde=True)\n",
    "plt.title('Tenure Distribution by Churn')\n",
    "plt.show()"
   ]
  },
  {
   "cell_type": "code",
   "execution_count": null,
   "id": "dc6441cd",
   "metadata": {},
   "outputs": [],
   "source": [
    "# Monthly Charges by Churn\n",
    "sns.boxplot(data=df, x='Churn', y='MonthlyCharges')\n",
    "plt.title('Monthly Charges vs Churn')\n",
    "plt.show()"
   ]
  }
 ],
 "metadata": {
  "kernelspec": {
   "display_name": "Python 3",
   "language": "python",
   "name": "python3"
  },
  "language_info": {
   "name": "python",
   "version": "3.x"
  }
 },
 "nbformat": 4,
 "nbformat_minor": 5
}
